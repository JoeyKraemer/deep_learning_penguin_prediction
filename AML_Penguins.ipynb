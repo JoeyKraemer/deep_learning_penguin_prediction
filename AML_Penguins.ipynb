{
  "cells": [
    {
      "cell_type": "markdown",
      "id": "da23fd37",
      "metadata": {
        "id": "da23fd37"
      },
      "source": [
        "\n",
        "# Advanced Machine Learning\n",
        "**Dataset:** `palmerpenguins.csv`  \n",
        "**Task:** Multiclass classification (species)\n"
      ]
    },
    {
      "cell_type": "code",
      "execution_count": 33,
      "id": "e937783c",
      "metadata": {
        "colab": {
          "base_uri": "https://localhost:8080/",
          "height": 36
        },
        "id": "e937783c",
        "outputId": "42b709ed-3033-43b1-9570-f83a42353f34"
      },
      "outputs": [
        {
          "output_type": "execute_result",
          "data": {
            "text/plain": [
              "'palmerpenguins.csv'"
            ],
            "application/vnd.google.colaboratory.intrinsic+json": {
              "type": "string"
            }
          },
          "metadata": {},
          "execution_count": 33
        }
      ],
      "source": [
        "\n",
        "import os, random, warnings\n",
        "warnings.filterwarnings(\"ignore\")\n",
        "\n",
        "import numpy as np\n",
        "import pandas as pd\n",
        "import matplotlib.pyplot as plt\n",
        "\n",
        "from sklearn.model_selection import train_test_split, StratifiedKFold\n",
        "from sklearn.preprocessing import OneHotEncoder, StandardScaler, label_binarize\n",
        "from sklearn.impute import SimpleImputer\n",
        "from sklearn.compose import ColumnTransformer\n",
        "from sklearn.pipeline import Pipeline\n",
        "from sklearn.metrics import (\n",
        "    accuracy_score, confusion_matrix, classification_report, roc_auc_score\n",
        ")\n",
        "\n",
        "import tensorflow as tf\n",
        "from tensorflow import keras\n",
        "from tensorflow.keras import layers, regularizers\n",
        "\n",
        "SEED = 42\n",
        "random.seed(SEED); np.random.seed(SEED); tf.keras.utils.set_random_seed(SEED)\n",
        "\n",
        "CSV_CANDIDATES = [\"palmerpenguins.csv\",\"/content/palmerpenguins.csv\"]\n",
        "CSV_PATH = next((p for p in CSV_CANDIDATES if os.path.exists(p)), None)\n",
        "assert CSV_PATH is not None, \"Place palmerpenguins.csv next to this notebook.\"\n",
        "CSV_PATH\n"
      ]
    },
    {
      "cell_type": "markdown",
      "id": "57819eb8",
      "metadata": {
        "id": "57819eb8"
      },
      "source": [
        "## 1) Load data"
      ]
    },
    {
      "cell_type": "code",
      "execution_count": 34,
      "id": "2f387a1a",
      "metadata": {
        "colab": {
          "base_uri": "https://localhost:8080/",
          "height": 994
        },
        "id": "2f387a1a",
        "outputId": "cc9876bd-0bf3-4c98-a9f1-2ba5d7c71569"
      },
      "outputs": [
        {
          "output_type": "stream",
          "name": "stdout",
          "text": [
            "Loaded: (344, 8)\n"
          ]
        },
        {
          "output_type": "display_data",
          "data": {
            "text/plain": [
              "  species     island  bill_length_mm  bill_depth_mm  flipper_length_mm  \\\n",
              "0  Adelie  Torgersen            39.1           18.7              181.0   \n",
              "1  Adelie  Torgersen            39.5           17.4              186.0   \n",
              "2  Adelie  Torgersen            40.3           18.0              195.0   \n",
              "3  Adelie  Torgersen             NaN            NaN                NaN   \n",
              "4  Adelie  Torgersen            36.7           19.3              193.0   \n",
              "\n",
              "   body_mass_g     sex  year  \n",
              "0       3750.0    male  2007  \n",
              "1       3800.0  female  2007  \n",
              "2       3250.0  female  2007  \n",
              "3          NaN     NaN  2007  \n",
              "4       3450.0  female  2007  "
            ],
            "text/html": [
              "\n",
              "  <div id=\"df-bc9734af-03e7-4aa3-93cc-5c288ae22f68\" class=\"colab-df-container\">\n",
              "    <div>\n",
              "<style scoped>\n",
              "    .dataframe tbody tr th:only-of-type {\n",
              "        vertical-align: middle;\n",
              "    }\n",
              "\n",
              "    .dataframe tbody tr th {\n",
              "        vertical-align: top;\n",
              "    }\n",
              "\n",
              "    .dataframe thead th {\n",
              "        text-align: right;\n",
              "    }\n",
              "</style>\n",
              "<table border=\"1\" class=\"dataframe\">\n",
              "  <thead>\n",
              "    <tr style=\"text-align: right;\">\n",
              "      <th></th>\n",
              "      <th>species</th>\n",
              "      <th>island</th>\n",
              "      <th>bill_length_mm</th>\n",
              "      <th>bill_depth_mm</th>\n",
              "      <th>flipper_length_mm</th>\n",
              "      <th>body_mass_g</th>\n",
              "      <th>sex</th>\n",
              "      <th>year</th>\n",
              "    </tr>\n",
              "  </thead>\n",
              "  <tbody>\n",
              "    <tr>\n",
              "      <th>0</th>\n",
              "      <td>Adelie</td>\n",
              "      <td>Torgersen</td>\n",
              "      <td>39.1</td>\n",
              "      <td>18.7</td>\n",
              "      <td>181.0</td>\n",
              "      <td>3750.0</td>\n",
              "      <td>male</td>\n",
              "      <td>2007</td>\n",
              "    </tr>\n",
              "    <tr>\n",
              "      <th>1</th>\n",
              "      <td>Adelie</td>\n",
              "      <td>Torgersen</td>\n",
              "      <td>39.5</td>\n",
              "      <td>17.4</td>\n",
              "      <td>186.0</td>\n",
              "      <td>3800.0</td>\n",
              "      <td>female</td>\n",
              "      <td>2007</td>\n",
              "    </tr>\n",
              "    <tr>\n",
              "      <th>2</th>\n",
              "      <td>Adelie</td>\n",
              "      <td>Torgersen</td>\n",
              "      <td>40.3</td>\n",
              "      <td>18.0</td>\n",
              "      <td>195.0</td>\n",
              "      <td>3250.0</td>\n",
              "      <td>female</td>\n",
              "      <td>2007</td>\n",
              "    </tr>\n",
              "    <tr>\n",
              "      <th>3</th>\n",
              "      <td>Adelie</td>\n",
              "      <td>Torgersen</td>\n",
              "      <td>NaN</td>\n",
              "      <td>NaN</td>\n",
              "      <td>NaN</td>\n",
              "      <td>NaN</td>\n",
              "      <td>NaN</td>\n",
              "      <td>2007</td>\n",
              "    </tr>\n",
              "    <tr>\n",
              "      <th>4</th>\n",
              "      <td>Adelie</td>\n",
              "      <td>Torgersen</td>\n",
              "      <td>36.7</td>\n",
              "      <td>19.3</td>\n",
              "      <td>193.0</td>\n",
              "      <td>3450.0</td>\n",
              "      <td>female</td>\n",
              "      <td>2007</td>\n",
              "    </tr>\n",
              "  </tbody>\n",
              "</table>\n",
              "</div>\n",
              "    <div class=\"colab-df-buttons\">\n",
              "\n",
              "  <div class=\"colab-df-container\">\n",
              "    <button class=\"colab-df-convert\" onclick=\"convertToInteractive('df-bc9734af-03e7-4aa3-93cc-5c288ae22f68')\"\n",
              "            title=\"Convert this dataframe to an interactive table.\"\n",
              "            style=\"display:none;\">\n",
              "\n",
              "  <svg xmlns=\"http://www.w3.org/2000/svg\" height=\"24px\" viewBox=\"0 -960 960 960\">\n",
              "    <path d=\"M120-120v-720h720v720H120Zm60-500h600v-160H180v160Zm220 220h160v-160H400v160Zm0 220h160v-160H400v160ZM180-400h160v-160H180v160Zm440 0h160v-160H620v160ZM180-180h160v-160H180v160Zm440 0h160v-160H620v160Z\"/>\n",
              "  </svg>\n",
              "    </button>\n",
              "\n",
              "  <style>\n",
              "    .colab-df-container {\n",
              "      display:flex;\n",
              "      gap: 12px;\n",
              "    }\n",
              "\n",
              "    .colab-df-convert {\n",
              "      background-color: #E8F0FE;\n",
              "      border: none;\n",
              "      border-radius: 50%;\n",
              "      cursor: pointer;\n",
              "      display: none;\n",
              "      fill: #1967D2;\n",
              "      height: 32px;\n",
              "      padding: 0 0 0 0;\n",
              "      width: 32px;\n",
              "    }\n",
              "\n",
              "    .colab-df-convert:hover {\n",
              "      background-color: #E2EBFA;\n",
              "      box-shadow: 0px 1px 2px rgba(60, 64, 67, 0.3), 0px 1px 3px 1px rgba(60, 64, 67, 0.15);\n",
              "      fill: #174EA6;\n",
              "    }\n",
              "\n",
              "    .colab-df-buttons div {\n",
              "      margin-bottom: 4px;\n",
              "    }\n",
              "\n",
              "    [theme=dark] .colab-df-convert {\n",
              "      background-color: #3B4455;\n",
              "      fill: #D2E3FC;\n",
              "    }\n",
              "\n",
              "    [theme=dark] .colab-df-convert:hover {\n",
              "      background-color: #434B5C;\n",
              "      box-shadow: 0px 1px 3px 1px rgba(0, 0, 0, 0.15);\n",
              "      filter: drop-shadow(0px 1px 2px rgba(0, 0, 0, 0.3));\n",
              "      fill: #FFFFFF;\n",
              "    }\n",
              "  </style>\n",
              "\n",
              "    <script>\n",
              "      const buttonEl =\n",
              "        document.querySelector('#df-bc9734af-03e7-4aa3-93cc-5c288ae22f68 button.colab-df-convert');\n",
              "      buttonEl.style.display =\n",
              "        google.colab.kernel.accessAllowed ? 'block' : 'none';\n",
              "\n",
              "      async function convertToInteractive(key) {\n",
              "        const element = document.querySelector('#df-bc9734af-03e7-4aa3-93cc-5c288ae22f68');\n",
              "        const dataTable =\n",
              "          await google.colab.kernel.invokeFunction('convertToInteractive',\n",
              "                                                    [key], {});\n",
              "        if (!dataTable) return;\n",
              "\n",
              "        const docLinkHtml = 'Like what you see? Visit the ' +\n",
              "          '<a target=\"_blank\" href=https://colab.research.google.com/notebooks/data_table.ipynb>data table notebook</a>'\n",
              "          + ' to learn more about interactive tables.';\n",
              "        element.innerHTML = '';\n",
              "        dataTable['output_type'] = 'display_data';\n",
              "        await google.colab.output.renderOutput(dataTable, element);\n",
              "        const docLink = document.createElement('div');\n",
              "        docLink.innerHTML = docLinkHtml;\n",
              "        element.appendChild(docLink);\n",
              "      }\n",
              "    </script>\n",
              "  </div>\n",
              "\n",
              "\n",
              "    <div id=\"df-749742cc-c090-49bb-b319-4279244ee239\">\n",
              "      <button class=\"colab-df-quickchart\" onclick=\"quickchart('df-749742cc-c090-49bb-b319-4279244ee239')\"\n",
              "                title=\"Suggest charts\"\n",
              "                style=\"display:none;\">\n",
              "\n",
              "<svg xmlns=\"http://www.w3.org/2000/svg\" height=\"24px\"viewBox=\"0 0 24 24\"\n",
              "     width=\"24px\">\n",
              "    <g>\n",
              "        <path d=\"M19 3H5c-1.1 0-2 .9-2 2v14c0 1.1.9 2 2 2h14c1.1 0 2-.9 2-2V5c0-1.1-.9-2-2-2zM9 17H7v-7h2v7zm4 0h-2V7h2v10zm4 0h-2v-4h2v4z\"/>\n",
              "    </g>\n",
              "</svg>\n",
              "      </button>\n",
              "\n",
              "<style>\n",
              "  .colab-df-quickchart {\n",
              "      --bg-color: #E8F0FE;\n",
              "      --fill-color: #1967D2;\n",
              "      --hover-bg-color: #E2EBFA;\n",
              "      --hover-fill-color: #174EA6;\n",
              "      --disabled-fill-color: #AAA;\n",
              "      --disabled-bg-color: #DDD;\n",
              "  }\n",
              "\n",
              "  [theme=dark] .colab-df-quickchart {\n",
              "      --bg-color: #3B4455;\n",
              "      --fill-color: #D2E3FC;\n",
              "      --hover-bg-color: #434B5C;\n",
              "      --hover-fill-color: #FFFFFF;\n",
              "      --disabled-bg-color: #3B4455;\n",
              "      --disabled-fill-color: #666;\n",
              "  }\n",
              "\n",
              "  .colab-df-quickchart {\n",
              "    background-color: var(--bg-color);\n",
              "    border: none;\n",
              "    border-radius: 50%;\n",
              "    cursor: pointer;\n",
              "    display: none;\n",
              "    fill: var(--fill-color);\n",
              "    height: 32px;\n",
              "    padding: 0;\n",
              "    width: 32px;\n",
              "  }\n",
              "\n",
              "  .colab-df-quickchart:hover {\n",
              "    background-color: var(--hover-bg-color);\n",
              "    box-shadow: 0 1px 2px rgba(60, 64, 67, 0.3), 0 1px 3px 1px rgba(60, 64, 67, 0.15);\n",
              "    fill: var(--button-hover-fill-color);\n",
              "  }\n",
              "\n",
              "  .colab-df-quickchart-complete:disabled,\n",
              "  .colab-df-quickchart-complete:disabled:hover {\n",
              "    background-color: var(--disabled-bg-color);\n",
              "    fill: var(--disabled-fill-color);\n",
              "    box-shadow: none;\n",
              "  }\n",
              "\n",
              "  .colab-df-spinner {\n",
              "    border: 2px solid var(--fill-color);\n",
              "    border-color: transparent;\n",
              "    border-bottom-color: var(--fill-color);\n",
              "    animation:\n",
              "      spin 1s steps(1) infinite;\n",
              "  }\n",
              "\n",
              "  @keyframes spin {\n",
              "    0% {\n",
              "      border-color: transparent;\n",
              "      border-bottom-color: var(--fill-color);\n",
              "      border-left-color: var(--fill-color);\n",
              "    }\n",
              "    20% {\n",
              "      border-color: transparent;\n",
              "      border-left-color: var(--fill-color);\n",
              "      border-top-color: var(--fill-color);\n",
              "    }\n",
              "    30% {\n",
              "      border-color: transparent;\n",
              "      border-left-color: var(--fill-color);\n",
              "      border-top-color: var(--fill-color);\n",
              "      border-right-color: var(--fill-color);\n",
              "    }\n",
              "    40% {\n",
              "      border-color: transparent;\n",
              "      border-right-color: var(--fill-color);\n",
              "      border-top-color: var(--fill-color);\n",
              "    }\n",
              "    60% {\n",
              "      border-color: transparent;\n",
              "      border-right-color: var(--fill-color);\n",
              "    }\n",
              "    80% {\n",
              "      border-color: transparent;\n",
              "      border-right-color: var(--fill-color);\n",
              "      border-bottom-color: var(--fill-color);\n",
              "    }\n",
              "    90% {\n",
              "      border-color: transparent;\n",
              "      border-bottom-color: var(--fill-color);\n",
              "    }\n",
              "  }\n",
              "</style>\n",
              "\n",
              "      <script>\n",
              "        async function quickchart(key) {\n",
              "          const quickchartButtonEl =\n",
              "            document.querySelector('#' + key + ' button');\n",
              "          quickchartButtonEl.disabled = true;  // To prevent multiple clicks.\n",
              "          quickchartButtonEl.classList.add('colab-df-spinner');\n",
              "          try {\n",
              "            const charts = await google.colab.kernel.invokeFunction(\n",
              "                'suggestCharts', [key], {});\n",
              "          } catch (error) {\n",
              "            console.error('Error during call to suggestCharts:', error);\n",
              "          }\n",
              "          quickchartButtonEl.classList.remove('colab-df-spinner');\n",
              "          quickchartButtonEl.classList.add('colab-df-quickchart-complete');\n",
              "        }\n",
              "        (() => {\n",
              "          let quickchartButtonEl =\n",
              "            document.querySelector('#df-749742cc-c090-49bb-b319-4279244ee239 button');\n",
              "          quickchartButtonEl.style.display =\n",
              "            google.colab.kernel.accessAllowed ? 'block' : 'none';\n",
              "        })();\n",
              "      </script>\n",
              "    </div>\n",
              "\n",
              "    </div>\n",
              "  </div>\n"
            ],
            "application/vnd.google.colaboratory.intrinsic+json": {
              "type": "dataframe",
              "summary": "{\n  \"name\": \"na_counts\",\n  \"rows\": 5,\n  \"fields\": [\n    {\n      \"column\": \"species\",\n      \"properties\": {\n        \"dtype\": \"category\",\n        \"num_unique_values\": 1,\n        \"samples\": [\n          \"Adelie\"\n        ],\n        \"semantic_type\": \"\",\n        \"description\": \"\"\n      }\n    },\n    {\n      \"column\": \"island\",\n      \"properties\": {\n        \"dtype\": \"category\",\n        \"num_unique_values\": 1,\n        \"samples\": [\n          \"Torgersen\"\n        ],\n        \"semantic_type\": \"\",\n        \"description\": \"\"\n      }\n    },\n    {\n      \"column\": \"bill_length_mm\",\n      \"properties\": {\n        \"dtype\": \"number\",\n        \"std\": 1.5491933384829646,\n        \"min\": 36.7,\n        \"max\": 40.3,\n        \"num_unique_values\": 4,\n        \"samples\": [\n          39.5\n        ],\n        \"semantic_type\": \"\",\n        \"description\": \"\"\n      }\n    },\n    {\n      \"column\": \"bill_depth_mm\",\n      \"properties\": {\n        \"dtype\": \"number\",\n        \"std\": 0.8266397845091503,\n        \"min\": 17.4,\n        \"max\": 19.3,\n        \"num_unique_values\": 4,\n        \"samples\": [\n          17.4\n        ],\n        \"semantic_type\": \"\",\n        \"description\": \"\"\n      }\n    },\n    {\n      \"column\": \"flipper_length_mm\",\n      \"properties\": {\n        \"dtype\": \"number\",\n        \"std\": 6.4485140407177015,\n        \"min\": 181.0,\n        \"max\": 195.0,\n        \"num_unique_values\": 4,\n        \"samples\": [\n          186.0\n        ],\n        \"semantic_type\": \"\",\n        \"description\": \"\"\n      }\n    },\n    {\n      \"column\": \"body_mass_g\",\n      \"properties\": {\n        \"dtype\": \"number\",\n        \"std\": 259.40637360455634,\n        \"min\": 3250.0,\n        \"max\": 3800.0,\n        \"num_unique_values\": 4,\n        \"samples\": [\n          3800.0\n        ],\n        \"semantic_type\": \"\",\n        \"description\": \"\"\n      }\n    },\n    {\n      \"column\": \"sex\",\n      \"properties\": {\n        \"dtype\": \"category\",\n        \"num_unique_values\": 2,\n        \"samples\": [\n          \"female\"\n        ],\n        \"semantic_type\": \"\",\n        \"description\": \"\"\n      }\n    },\n    {\n      \"column\": \"year\",\n      \"properties\": {\n        \"dtype\": \"number\",\n        \"std\": 0,\n        \"min\": 2007,\n        \"max\": 2007,\n        \"num_unique_values\": 1,\n        \"samples\": [\n          2007\n        ],\n        \"semantic_type\": \"\",\n        \"description\": \"\"\n      }\n    }\n  ]\n}"
            }
          },
          "metadata": {}
        },
        {
          "output_type": "stream",
          "name": "stdout",
          "text": [
            "After removing NaN in target: (344, 8)\n"
          ]
        },
        {
          "output_type": "display_data",
          "data": {
            "text/plain": [
              "<Figure size 500x300 with 1 Axes>"
            ],
            "image/png": "[encoded data removed]"
          },
          "metadata": {}
        },
        {
          "output_type": "stream",
          "name": "stdout",
          "text": [
            "Missing per column:\n",
            " sex                  11\n",
            "bill_depth_mm         2\n",
            "flipper_length_mm     2\n",
            "bill_length_mm        2\n",
            "body_mass_g           2\n",
            "island                0\n",
            "species               0\n",
            "year                  0\n",
            "dtype: int64\n"
          ]
        },
        {
          "output_type": "display_data",
          "data": {
            "text/plain": [
              "<Figure size 600x300 with 1 Axes>"
            ],
            "image/png": "[encoded data removed]"
          },
          "metadata": {}
        }
      ],
      "source": [
        "\n",
        "df = pd.read_csv(CSV_PATH)\n",
        "print(\"Loaded:\", df.shape)\n",
        "display(df.head())\n",
        "\n",
        "# Drop rows with missing target\n",
        "df = df[~df[\"species\"].isna()].copy()\n",
        "print(\"After removing NaN in target:\", df.shape)\n",
        "\n",
        "# Class balance\n",
        "ax = df[\"species\"].value_counts().plot(kind=\"bar\", figsize=(5,3), title=\"Class distribution (species)\")\n",
        "ax.set_xlabel(\"species\"); ax.set_ylabel(\"count\"); plt.tight_layout(); plt.show()\n",
        "\n",
        "# Missing values per column\n",
        "na_counts = df.isna().sum().sort_values(ascending=False)\n",
        "print(\"Missing per column:\\n\", na_counts)\n",
        "na_counts.plot(kind=\"bar\", figsize=(6,3), title=\"Missing values per column\"); plt.tight_layout(); plt.show()\n"
      ]
    },
    {
      "cell_type": "markdown",
      "id": "cc3b26f3",
      "metadata": {
        "id": "cc3b26f3"
      },
      "source": [
        "## 2) Preprocessing"
      ]
    },
    {
      "cell_type": "code",
      "execution_count": 35,
      "id": "22a31a47",
      "metadata": {
        "colab": {
          "base_uri": "https://localhost:8080/"
        },
        "id": "22a31a47",
        "outputId": "9cb5b428-478e-45d0-bb92-6a6084359616"
      },
      "outputs": [
        {
          "output_type": "stream",
          "name": "stdout",
          "text": [
            "Shapes: (275, 10) (69, 10) classes: ['Adelie', 'Chinstrap', 'Gentoo']\n"
          ]
        }
      ],
      "source": [
        "num_cols = [\"bill_length_mm\", \"bill_depth_mm\", \"flipper_length_mm\", \"body_mass_g\", \"year\"]\n",
        "cat_cols = [\"island\", \"sex\"]\n",
        "\n",
        "X = df[num_cols + cat_cols].copy()\n",
        "y = df[\"species\"].copy()\n",
        "\n",
        "num_pipe = Pipeline([\n",
        "    (\"imputer\", SimpleImputer(strategy=\"median\")),\n",
        "    (\"scaler\", StandardScaler())\n",
        "])\n",
        "cat_pipe = Pipeline([\n",
        "    (\"imputer\", SimpleImputer(strategy=\"most_frequent\")),\n",
        "    (\"ohe\", OneHotEncoder(handle_unknown=\"ignore\", sparse_output=False))\n",
        "])\n",
        "\n",
        "preprocess = ColumnTransformer(\n",
        "    [(\"num\", num_pipe, num_cols),\n",
        "     (\"cat\", cat_pipe, cat_cols)],\n",
        "    remainder=\"drop\"\n",
        ")\n",
        "\n",
        "X_train, X_test, y_train, y_test = train_test_split(\n",
        "    X, y, test_size=0.2, random_state=SEED, stratify=y\n",
        ")\n",
        "\n",
        "X_train_proc = preprocess.fit_transform(X_train)\n",
        "X_test_proc  = preprocess.transform(X_test)\n",
        "\n",
        "# Encode labels to indices\n",
        "class_names = sorted(y.unique())\n",
        "class_to_idx = {c:i for i,c in enumerate(class_names)}\n",
        "y_train_idx = y_train.map(class_to_idx).values\n",
        "y_test_idx  = y_test.map(class_to_idx).values\n",
        "\n",
        "n_features = X_train_proc.shape[1]\n",
        "n_classes = len(class_names)\n",
        "\n",
        "print(\"Shapes:\", X_train_proc.shape, X_test_proc.shape, \"classes:\", class_names)\n"
      ]
    },
    {
      "cell_type": "markdown",
      "id": "c49cd495",
      "metadata": {
        "id": "c49cd495"
      },
      "source": [
        "## 3–4) Deep Learning architecture & Training"
      ]
    },
    {
      "cell_type": "code",
      "execution_count": 36,
      "id": "7316602f",
      "metadata": {
        "colab": {
          "base_uri": "https://localhost:8080/",
          "height": 1000
        },
        "id": "7316602f",
        "outputId": "1746be2b-a450-4125-c887-01f19c2c6ae3"
      },
      "outputs": [
        {
          "output_type": "display_data",
          "data": {
            "text/plain": [
              "\u001b[1mModel: \"sequential_110\"\u001b[0m\n"
            ],
            "text/html": [
              "<pre style=\"white-space:pre;overflow-x:auto;line-height:normal;font-family:Menlo,'DejaVu Sans Mono',consolas,'Courier New',monospace\"><span style=\"font-weight: bold\">Model: \"sequential_110\"</span>\n",
              "</pre>\n"
            ]
          },
          "metadata": {}
        },
        {
          "output_type": "display_data",
          "data": {
            "text/plain": [
              "┏━━━━━━━━━━━━━━━━━━━━━━━━━━━━━━━━━┳━━━━━━━━━━━━━━━━━━━━━━━━┳━━━━━━━━━━━━━━━┓\n",
              "┃\u001b[1m \u001b[0m\u001b[1mLayer (type)                   \u001b[0m\u001b[1m \u001b[0m┃\u001b[1m \u001b[0m\u001b[1mOutput Shape          \u001b[0m\u001b[1m \u001b[0m┃\u001b[1m \u001b[0m\u001b[1m      Param #\u001b[0m\u001b[1m \u001b[0m┃\n",
              "┡━━━━━━━━━━━━━━━━━━━━━━━━━━━━━━━━━╇━━━━━━━━━━━━━━━━━━━━━━━━╇━━━━━━━━━━━━━━━┩\n",
              "│ dense_330 (\u001b[38;5;33mDense\u001b[0m)               │ (\u001b[38;5;45mNone\u001b[0m, \u001b[38;5;34m64\u001b[0m)             │           \u001b[38;5;34m704\u001b[0m │\n",
              "├─────────────────────────────────┼────────────────────────┼───────────────┤\n",
              "│ dropout_110 (\u001b[38;5;33mDropout\u001b[0m)           │ (\u001b[38;5;45mNone\u001b[0m, \u001b[38;5;34m64\u001b[0m)             │             \u001b[38;5;34m0\u001b[0m │\n",
              "├─────────────────────────────────┼────────────────────────┼───────────────┤\n",
              "│ dense_331 (\u001b[38;5;33mDense\u001b[0m)               │ (\u001b[38;5;45mNone\u001b[0m, \u001b[38;5;34m32\u001b[0m)             │         \u001b[38;5;34m2,080\u001b[0m │\n",
              "├─────────────────────────────────┼────────────────────────┼───────────────┤\n",
              "│ dense_332 (\u001b[38;5;33mDense\u001b[0m)               │ (\u001b[38;5;45mNone\u001b[0m, \u001b[38;5;34m3\u001b[0m)              │            \u001b[38;5;34m99\u001b[0m │\n",
              "└─────────────────────────────────┴────────────────────────┴───────────────┘\n"
            ],
            "text/html": [
              "<pre style=\"white-space:pre;overflow-x:auto;line-height:normal;font-family:Menlo,'DejaVu Sans Mono',consolas,'Courier New',monospace\">┏━━━━━━━━━━━━━━━━━━━━━━━━━━━━━━━━━┳━━━━━━━━━━━━━━━━━━━━━━━━┳━━━━━━━━━━━━━━━┓\n",
              "┃<span style=\"font-weight: bold\"> Layer (type)                    </span>┃<span style=\"font-weight: bold\"> Output Shape           </span>┃<span style=\"font-weight: bold\">       Param # </span>┃\n",
              "┡━━━━━━━━━━━━━━━━━━━━━━━━━━━━━━━━━╇━━━━━━━━━━━━━━━━━━━━━━━━╇━━━━━━━━━━━━━━━┩\n",
              "│ dense_330 (<span style=\"color: #0087ff; text-decoration-color: #0087ff\">Dense</span>)               │ (<span style=\"color: #00d7ff; text-decoration-color: #00d7ff\">None</span>, <span style=\"color: #00af00; text-decoration-color: #00af00\">64</span>)             │           <span style=\"color: #00af00; text-decoration-color: #00af00\">704</span> │\n",
              "├─────────────────────────────────┼────────────────────────┼───────────────┤\n",
              "│ dropout_110 (<span style=\"color: #0087ff; text-decoration-color: #0087ff\">Dropout</span>)           │ (<span style=\"color: #00d7ff; text-decoration-color: #00d7ff\">None</span>, <span style=\"color: #00af00; text-decoration-color: #00af00\">64</span>)             │             <span style=\"color: #00af00; text-decoration-color: #00af00\">0</span> │\n",
              "├─────────────────────────────────┼────────────────────────┼───────────────┤\n",
              "│ dense_331 (<span style=\"color: #0087ff; text-decoration-color: #0087ff\">Dense</span>)               │ (<span style=\"color: #00d7ff; text-decoration-color: #00d7ff\">None</span>, <span style=\"color: #00af00; text-decoration-color: #00af00\">32</span>)             │         <span style=\"color: #00af00; text-decoration-color: #00af00\">2,080</span> │\n",
              "├─────────────────────────────────┼────────────────────────┼───────────────┤\n",
              "│ dense_332 (<span style=\"color: #0087ff; text-decoration-color: #0087ff\">Dense</span>)               │ (<span style=\"color: #00d7ff; text-decoration-color: #00d7ff\">None</span>, <span style=\"color: #00af00; text-decoration-color: #00af00\">3</span>)              │            <span style=\"color: #00af00; text-decoration-color: #00af00\">99</span> │\n",
              "└─────────────────────────────────┴────────────────────────┴───────────────┘\n",
              "</pre>\n"
            ]
          },
          "metadata": {}
        },
        {
          "output_type": "display_data",
          "data": {
            "text/plain": [
              "\u001b[1m Total params: \u001b[0m\u001b[38;5;34m2,883\u001b[0m (11.26 KB)\n"
            ],
            "text/html": [
              "<pre style=\"white-space:pre;overflow-x:auto;line-height:normal;font-family:Menlo,'DejaVu Sans Mono',consolas,'Courier New',monospace\"><span style=\"font-weight: bold\"> Total params: </span><span style=\"color: #00af00; text-decoration-color: #00af00\">2,883</span> (11.26 KB)\n",
              "</pre>\n"
            ]
          },
          "metadata": {}
        },
        {
          "output_type": "display_data",
          "data": {
            "text/plain": [
              "\u001b[1m Trainable params: \u001b[0m\u001b[38;5;34m2,883\u001b[0m (11.26 KB)\n"
            ],
            "text/html": [
              "<pre style=\"white-space:pre;overflow-x:auto;line-height:normal;font-family:Menlo,'DejaVu Sans Mono',consolas,'Courier New',monospace\"><span style=\"font-weight: bold\"> Trainable params: </span><span style=\"color: #00af00; text-decoration-color: #00af00\">2,883</span> (11.26 KB)\n",
              "</pre>\n"
            ]
          },
          "metadata": {}
        },
        {
          "output_type": "display_data",
          "data": {
            "text/plain": [
              "\u001b[1m Non-trainable params: \u001b[0m\u001b[38;5;34m0\u001b[0m (0.00 B)\n"
            ],
            "text/html": [
              "<pre style=\"white-space:pre;overflow-x:auto;line-height:normal;font-family:Menlo,'DejaVu Sans Mono',consolas,'Courier New',monospace\"><span style=\"font-weight: bold\"> Non-trainable params: </span><span style=\"color: #00af00; text-decoration-color: #00af00\">0</span> (0.00 B)\n",
              "</pre>\n"
            ]
          },
          "metadata": {}
        },
        {
          "output_type": "stream",
          "name": "stdout",
          "text": [
            "Epoch 1/150\n",
            "\u001b[1m14/14\u001b[0m \u001b[32m━━━━━━━━━━━━━━━━━━━━\u001b[0m\u001b[37m\u001b[0m \u001b[1m1s\u001b[0m 24ms/step - accuracy: 0.4701 - loss: 1.0559 - val_accuracy: 0.8545 - val_loss: 0.8149\n",
            "Epoch 2/150\n",
            "\u001b[1m14/14\u001b[0m \u001b[32m━━━━━━━━━━━━━━━━━━━━\u001b[0m\u001b[37m\u001b[0m \u001b[1m0s\u001b[0m 8ms/step - accuracy: 0.8913 - loss: 0.7549 - val_accuracy: 0.8000 - val_loss: 0.6127\n",
            "Epoch 3/150\n",
            "\u001b[1m14/14\u001b[0m \u001b[32m━━━━━━━━━━━━━━━━━━━━\u001b[0m\u001b[37m\u001b[0m \u001b[1m0s\u001b[0m 9ms/step - accuracy: 0.8999 - loss: 0.5498 - val_accuracy: 0.8545 - val_loss: 0.4390\n",
            "Epoch 4/150\n",
            "\u001b[1m14/14\u001b[0m \u001b[32m━━━━━━━━━━━━━━━━━━━━\u001b[0m\u001b[37m\u001b[0m \u001b[1m0s\u001b[0m 8ms/step - accuracy: 0.9326 - loss: 0.3717 - val_accuracy: 0.9273 - val_loss: 0.3018\n",
            "Epoch 5/150\n",
            "\u001b[1m14/14\u001b[0m \u001b[32m━━━━━━━━━━━━━━━━━━━━\u001b[0m\u001b[37m\u001b[0m \u001b[1m0s\u001b[0m 8ms/step - accuracy: 0.9477 - loss: 0.2468 - val_accuracy: 1.0000 - val_loss: 0.2012\n",
            "Epoch 6/150\n",
            "\u001b[1m14/14\u001b[0m \u001b[32m━━━━━━━━━━━━━━━━━━━━\u001b[0m\u001b[37m\u001b[0m \u001b[1m0s\u001b[0m 8ms/step - accuracy: 0.9628 - loss: 0.1821 - val_accuracy: 1.0000 - val_loss: 0.1346\n",
            "Epoch 7/150\n",
            "\u001b[1m14/14\u001b[0m \u001b[32m━━━━━━━━━━━━━━━━━━━━\u001b[0m\u001b[37m\u001b[0m \u001b[1m0s\u001b[0m 9ms/step - accuracy: 0.9704 - loss: 0.1379 - val_accuracy: 1.0000 - val_loss: 0.0923\n",
            "Epoch 8/150\n",
            "\u001b[1m14/14\u001b[0m \u001b[32m━━━━━━━━━━━━━━━━━━━━\u001b[0m\u001b[37m\u001b[0m \u001b[1m0s\u001b[0m 8ms/step - accuracy: 0.9836 - loss: 0.0994 - val_accuracy: 1.0000 - val_loss: 0.0656\n",
            "Epoch 9/150\n",
            "\u001b[1m14/14\u001b[0m \u001b[32m━━━━━━━━━━━━━━━━━━━━\u001b[0m\u001b[37m\u001b[0m \u001b[1m0s\u001b[0m 8ms/step - accuracy: 0.9844 - loss: 0.0934 - val_accuracy: 1.0000 - val_loss: 0.0493\n",
            "Epoch 10/150\n",
            "\u001b[1m14/14\u001b[0m \u001b[32m━━━━━━━━━━━━━━━━━━━━\u001b[0m\u001b[37m\u001b[0m \u001b[1m0s\u001b[0m 8ms/step - accuracy: 0.9778 - loss: 0.0808 - val_accuracy: 1.0000 - val_loss: 0.0388\n",
            "Epoch 11/150\n",
            "\u001b[1m14/14\u001b[0m \u001b[32m━━━━━━━━━━━━━━━━━━━━\u001b[0m\u001b[37m\u001b[0m \u001b[1m0s\u001b[0m 8ms/step - accuracy: 0.9948 - loss: 0.0518 - val_accuracy: 1.0000 - val_loss: 0.0321\n",
            "Epoch 12/150\n",
            "\u001b[1m14/14\u001b[0m \u001b[32m━━━━━━━━━━━━━━━━━━━━\u001b[0m\u001b[37m\u001b[0m \u001b[1m0s\u001b[0m 8ms/step - accuracy: 0.9844 - loss: 0.0565 - val_accuracy: 1.0000 - val_loss: 0.0282\n",
            "Epoch 13/150\n",
            "\u001b[1m14/14\u001b[0m \u001b[32m━━━━━━━━━━━━━━━━━━━━\u001b[0m\u001b[37m\u001b[0m \u001b[1m0s\u001b[0m 8ms/step - accuracy: 0.9948 - loss: 0.0457 - val_accuracy: 1.0000 - val_loss: 0.0270\n",
            "Epoch 14/150\n",
            "\u001b[1m14/14\u001b[0m \u001b[32m━━━━━━━━━━━━━━━━━━━━\u001b[0m\u001b[37m\u001b[0m \u001b[1m0s\u001b[0m 8ms/step - accuracy: 0.9918 - loss: 0.0465 - val_accuracy: 1.0000 - val_loss: 0.0244\n",
            "Epoch 15/150\n",
            "\u001b[1m14/14\u001b[0m \u001b[32m━━━━━━━━━━━━━━━━━━━━\u001b[0m\u001b[37m\u001b[0m \u001b[1m0s\u001b[0m 8ms/step - accuracy: 0.9948 - loss: 0.0405 - val_accuracy: 1.0000 - val_loss: 0.0212\n"
          ]
        },
        {
          "output_type": "display_data",
          "data": {
            "text/plain": [
              "<Figure size 600x300 with 1 Axes>"
            ],
            "image/png": "[encoded data removed]"
          },
          "metadata": {}
        },
        {
          "output_type": "stream",
          "name": "stdout",
          "text": [
            "Baseline test accuracy: 0.9855\n"
          ]
        }
      ],
      "source": [
        "\n",
        "def build_mlp(n_features, n_classes):\n",
        "    model = keras.Sequential([\n",
        "        keras.Input(shape=(n_features,)),\n",
        "        layers.Dense(64, activation=\"relu\"),\n",
        "        layers.Dropout(0.2),\n",
        "        layers.Dense(32, activation=\"relu\"),\n",
        "        layers.Dense(n_classes, activation=\"softmax\")\n",
        "    ])\n",
        "    model.compile(optimizer=\"adam\",\n",
        "                  loss=\"sparse_categorical_crossentropy\",\n",
        "                  metrics=[\"accuracy\"])\n",
        "    return model\n",
        "\n",
        "baseline = build_mlp(n_features, n_classes)\n",
        "baseline.summary()\n",
        "\n",
        "early = keras.callbacks.EarlyStopping(monitor=\"val_accuracy\", patience=10, restore_best_weights=True)\n",
        "\n",
        "hist = baseline.fit(\n",
        "    X_train_proc, y_train_idx,\n",
        "    validation_split=0.2,\n",
        "    epochs=150,\n",
        "    batch_size=16,\n",
        "    callbacks=[early],\n",
        "    verbose=1\n",
        ")\n",
        "\n",
        "plt.figure(figsize=(6,3))\n",
        "plt.plot(hist.history[\"accuracy\"], label=\"train\")\n",
        "plt.plot(hist.history[\"val_accuracy\"], label=\"val\")\n",
        "plt.title(\"Accuracy\"); plt.xlabel(\"epoch\"); plt.ylabel(\"acc\"); plt.legend(); plt.tight_layout(); plt.show()\n",
        "\n",
        "test_loss, test_acc = baseline.evaluate(X_test_proc, y_test_idx, verbose=0)\n",
        "print(f\"Baseline test accuracy: {test_acc:.4f}\")\n"
      ]
    },
    {
      "cell_type": "markdown",
      "id": "750ae690",
      "metadata": {
        "id": "750ae690"
      },
      "source": [
        "## 5) Hyperparameter tuning (Random Search)"
      ]
    },
    {
      "cell_type": "code",
      "execution_count": 37,
      "id": "3a4dc12e",
      "metadata": {
        "colab": {
          "base_uri": "https://localhost:8080/",
          "height": 342
        },
        "id": "3a4dc12e",
        "outputId": "c5ae77c2-2701-4e5a-a91e-73f4b7e212e8"
      },
      "outputs": [
        {
          "output_type": "stream",
          "name": "stdout",
          "text": [
            "Best config: {'units1': 32, 'units2': 96, 'dropout': 0.3, 'l2': 0.0001, 'lr': 0.0005, 'batch': 32, 'opt': np.str_('adam')} val_acc= 1.0\n"
          ]
        },
        {
          "output_type": "display_data",
          "data": {
            "text/plain": [
              "<Figure size 500x300 with 1 Axes>"
            ],
            "image/png": "[encoded data removed]"
          },
          "metadata": {}
        },
        {
          "output_type": "stream",
          "name": "stdout",
          "text": [
            "Best-model test accuracy: 0.9710\n"
          ]
        }
      ],
      "source": [
        "\n",
        "def build_cfg_model(n_features, n_classes, units1, units2, dropout, l2val, lr, opt_name=\"adam\"):\n",
        "    model = keras.Sequential([\n",
        "        keras.Input(shape=(n_features,)),\n",
        "        layers.Dense(units1, activation=\"relu\", kernel_regularizer=regularizers.l2(l2val)),\n",
        "        layers.Dropout(dropout),\n",
        "        layers.Dense(units2, activation=\"relu\", kernel_regularizer=regularizers.l2(l2val)),\n",
        "        layers.Dense(n_classes, activation=\"softmax\")\n",
        "    ])\n",
        "    opt = keras.optimizers.Adam(lr) if opt_name==\"adam\" else keras.optimizers.RMSprop(lr)\n",
        "    model.compile(optimizer=opt, loss=\"sparse_categorical_crossentropy\", metrics=[\"accuracy\"])\n",
        "    return model\n",
        "\n",
        "search_space = {\n",
        "    \"units1\":  [32,64, 128, 192, 256],\n",
        "    \"units2\":  [16,32, 64, 96, 128],\n",
        "    \"dropout\": [0.0, 0.2, 0.3, 0.5],\n",
        "    \"l2\":      [1e-5, 1e-4, 1e-3],\n",
        "    \"lr\":      [1e-3, 5e-4, 2e-3],\n",
        "    \"batch\":   [8, 16, 32],\n",
        "    \"opt\":     [\"adam\", \"rmsprop\"]\n",
        "}\n",
        "\n",
        "rng = np.random.default_rng(SEED)\n",
        "def sample(space, n=20):\n",
        "    keys = list(space.keys())\n",
        "    for _ in range(n):\n",
        "        cfg = {k: rng.choice(v).item() if isinstance(v[0], (int,float)) else rng.choice(v) for k,v in space.items()}\n",
        "        yield cfg\n",
        "\n",
        "best = {\"val_acc\": -1, \"cfg\": None, \"model\": None}\n",
        "val_scores = []\n",
        "\n",
        "for i, cfg in enumerate(sample(search_space, n=20)):\n",
        "    model = build_cfg_model(n_features, n_classes, cfg[\"units1\"], cfg[\"units2\"],\n",
        "                            cfg[\"dropout\"], cfg[\"l2\"], cfg[\"lr\"], cfg[\"opt\"])\n",
        "    early = keras.callbacks.EarlyStopping(monitor=\"val_accuracy\", patience=8, restore_best_weights=True)\n",
        "    h = model.fit(\n",
        "        X_train_proc, y_train_idx,\n",
        "        validation_split=0.2,\n",
        "        epochs=150,\n",
        "        batch_size=int(cfg[\"batch\"]),\n",
        "        callbacks=[early],\n",
        "        verbose=0\n",
        "    )\n",
        "    v = max(h.history[\"val_accuracy\"])\n",
        "    val_scores.append(v)\n",
        "    if v > best[\"val_acc\"]:\n",
        "        best = {\"val_acc\": v, \"cfg\": cfg, \"model\": model}\n",
        "\n",
        "print(\"Best config:\", best[\"cfg\"], \"val_acc=\", round(best[\"val_acc\"], 4))\n",
        "\n",
        "plt.figure(figsize=(5,3)); plt.plot(val_scores, marker=\"o\"); plt.title(\"Validation acc over trials\"); plt.xlabel(\"trial\"); plt.ylabel(\"val_acc\"); plt.tight_layout(); plt.show()\n",
        "\n",
        "best_test_loss, best_test_acc = best[\"model\"].evaluate(X_test_proc, y_test_idx, verbose=0)\n",
        "print(f\"Best-model test accuracy: {best_test_acc:.4f}\")\n"
      ]
    },
    {
      "cell_type": "markdown",
      "id": "aed4872e",
      "metadata": {
        "id": "aed4872e"
      },
      "source": [
        "## 6) Evaluation experiments"
      ]
    },
    {
      "cell_type": "code",
      "execution_count": 38,
      "id": "78aa3aa9",
      "metadata": {
        "colab": {
          "base_uri": "https://localhost:8080/",
          "height": 667
        },
        "id": "78aa3aa9",
        "outputId": "f85b2b3a-4437-4098-b15b-31445f496871"
      },
      "outputs": [
        {
          "output_type": "stream",
          "name": "stdout",
          "text": [
            "Confusion matrix:\n",
            " [[30  0  0]\n",
            " [ 2 12  0]\n",
            " [ 0  0 25]]\n"
          ]
        },
        {
          "output_type": "display_data",
          "data": {
            "text/plain": [
              "<Figure size 400x400 with 1 Axes>"
            ],
            "image/png": "[encoded data removed]"
          },
          "metadata": {}
        },
        {
          "output_type": "stream",
          "name": "stdout",
          "text": [
            "              precision    recall  f1-score   support\n",
            "\n",
            "      Adelie       0.94      1.00      0.97        30\n",
            "   Chinstrap       1.00      0.86      0.92        14\n",
            "      Gentoo       1.00      1.00      1.00        25\n",
            "\n",
            "    accuracy                           0.97        69\n",
            "   macro avg       0.98      0.95      0.96        69\n",
            "weighted avg       0.97      0.97      0.97        69\n",
            "\n",
            "OVR ROC-AUC: 0.9979\n"
          ]
        }
      ],
      "source": [
        "\n",
        "final_model = best[\"model\"] if best[\"model\"] is not None else baseline\n",
        "\n",
        "# Confusion matrix\n",
        "y_pred_idx = np.argmax(final_model.predict(X_test_proc, verbose=0), axis=1)\n",
        "cm = confusion_matrix(y_test_idx, y_pred_idx)\n",
        "print(\"Confusion matrix:\\n\", cm)\n",
        "\n",
        "plt.figure(figsize=(4,4))\n",
        "plt.imshow(cm, interpolation=\"nearest\")\n",
        "plt.title(\"Confusion Matrix\")\n",
        "plt.xticks(range(n_classes), class_names, rotation=45)\n",
        "plt.yticks(range(n_classes), class_names)\n",
        "for i in range(n_classes):\n",
        "    for j in range(n_classes):\n",
        "        plt.text(j, i, cm[i, j], ha=\"center\", va=\"center\")\n",
        "plt.xlabel(\"Predicted\"); plt.ylabel(\"True\")\n",
        "plt.tight_layout(); plt.show()\n",
        "\n",
        "print(classification_report(y_test_idx, y_pred_idx, target_names=class_names))\n",
        "\n",
        "# ROC-AUC\n",
        "try:\n",
        "    y_test_bin = label_binarize(y_test_idx, classes=list(range(n_classes)))\n",
        "    y_proba = final_model.predict(X_test_proc, verbose=0)\n",
        "    auc = roc_auc_score(y_test_bin, y_proba, multi_class=\"ovr\")\n",
        "    print(f\"OVR ROC-AUC: {auc:.4f}\")\n",
        "except Exception as e:\n",
        "    print(\"ROC-AUC not computed:\", e)\n"
      ]
    }
  ],
  "metadata": {
    "colab": {
      "provenance": []
    },
    "language_info": {
      "name": "python"
    },
    "kernelspec": {
      "name": "python3",
      "display_name": "Python 3"
    }
  },
  "nbformat": 4,
  "nbformat_minor": 5
}